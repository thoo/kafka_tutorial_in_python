{
 "cells": [
  {
   "cell_type": "code",
   "execution_count": 1,
   "id": "537fe663",
   "metadata": {
    "ExecuteTime": {
     "end_time": "2022-09-10T02:45:46.526648Z",
     "start_time": "2022-09-10T02:45:46.477744Z"
    }
   },
   "outputs": [],
   "source": [
    "from kafka import KafkaConsumer\n",
    "import json\n",
    "import time"
   ]
  },
  {
   "cell_type": "code",
   "execution_count": 2,
   "id": "17b1baf0",
   "metadata": {
    "ExecuteTime": {
     "end_time": "2022-09-10T02:45:46.884227Z",
     "start_time": "2022-09-10T02:45:46.764492Z"
    }
   },
   "outputs": [],
   "source": [
    "consumer = KafkaConsumer(\n",
    " client_id = \"client1\",\n",
    " bootstrap_servers=\"localhost:9092\",\n",
    " max_poll_records = 10\n",
    ")"
   ]
  },
  {
   "cell_type": "markdown",
   "id": "cf2747b0",
   "metadata": {},
   "source": [
    "## Check available topics"
   ]
  },
  {
   "cell_type": "code",
   "execution_count": 3,
   "id": "8a0a20b6",
   "metadata": {
    "ExecuteTime": {
     "end_time": "2022-09-10T02:45:47.600475Z",
     "start_time": "2022-09-10T02:45:47.588415Z"
    }
   },
   "outputs": [
    {
     "data": {
      "text/plain": [
       "{'topic_one', 'topic_two'}"
      ]
     },
     "execution_count": 3,
     "metadata": {},
     "output_type": "execute_result"
    }
   ],
   "source": [
    "consumer.topics()"
   ]
  },
  {
   "cell_type": "code",
   "execution_count": 4,
   "id": "edca08b6",
   "metadata": {
    "ExecuteTime": {
     "end_time": "2022-09-10T02:45:48.146606Z",
     "start_time": "2022-09-10T02:45:48.141164Z"
    }
   },
   "outputs": [
    {
     "data": {
      "text/plain": [
       "{'topic_one'}"
      ]
     },
     "execution_count": 4,
     "metadata": {},
     "output_type": "execute_result"
    }
   ],
   "source": [
    "consumer.subscribe(topics=['topic_one'])\n",
    "consumer.subscription()"
   ]
  },
  {
   "cell_type": "markdown",
   "id": "3dadbea3",
   "metadata": {},
   "source": [
    "## Within each partition, the order is preserved like a queue ( first in first out-Queue ) even though the order is not maintained in each topic.\n",
    "## Only exception is if there is a single partition in a topic, the order will be preserved."
   ]
  },
  {
   "cell_type": "code",
   "execution_count": 19,
   "id": "91c593fb",
   "metadata": {
    "ExecuteTime": {
     "end_time": "2022-09-10T05:13:10.268480Z",
     "start_time": "2022-09-10T05:12:57.424303Z"
    },
    "scrolled": false
   },
   "outputs": [
    {
     "name": "stdout",
     "output_type": "stream",
     "text": [
      "ConsumerRecord(topic='topic_one', partition=0, offset=21, timestamp=1662786790243, timestamp_type=0, key=b'{\"id\": 1}', value=b'{\"idx\": 1}', headers=[], checksum=None, serialized_key_size=9, serialized_value_size=10, serialized_header_size=-1)\n",
      "\n",
      "\n",
      "ConsumerRecord(topic='topic_one', partition=1, offset=29, timestamp=1662786790243, timestamp_type=0, key=b'{\"id\": 1}', value=b'{\"idx\": 2}', headers=[], checksum=None, serialized_key_size=9, serialized_value_size=10, serialized_header_size=-1)\n",
      "\n",
      "\n",
      "ConsumerRecord(topic='topic_one', partition=2, offset=22, timestamp=1662786790244, timestamp_type=0, key=b'{\"id\": 1}', value=b'{\"idx\": 3}', headers=[], checksum=None, serialized_key_size=9, serialized_value_size=10, serialized_header_size=-1)\n",
      "\n",
      "\n",
      "ConsumerRecord(topic='topic_one', partition=2, offset=23, timestamp=1662786790245, timestamp_type=0, key=b'{\"id\": 1}', value=b'{\"idx\": 6}', headers=[], checksum=None, serialized_key_size=9, serialized_value_size=10, serialized_header_size=-1)\n",
      "\n",
      "\n",
      "ConsumerRecord(topic='topic_one', partition=0, offset=22, timestamp=1662786790244, timestamp_type=0, key=b'{\"id\": 1}', value=b'{\"idx\": 4}', headers=[], checksum=None, serialized_key_size=9, serialized_value_size=10, serialized_header_size=-1)\n",
      "\n",
      "\n",
      "ConsumerRecord(topic='topic_one', partition=1, offset=30, timestamp=1662786790245, timestamp_type=0, key=b'{\"id\": 1}', value=b'{\"idx\": 5}', headers=[], checksum=None, serialized_key_size=9, serialized_value_size=10, serialized_header_size=-1)\n",
      "\n",
      "\n",
      "ConsumerRecord(topic='topic_one', partition=0, offset=23, timestamp=1662786790246, timestamp_type=0, key=b'{\"id\": 1}', value=b'{\"idx\": 7}', headers=[], checksum=None, serialized_key_size=9, serialized_value_size=10, serialized_header_size=-1)\n",
      "\n",
      "\n",
      "ConsumerRecord(topic='topic_one', partition=1, offset=31, timestamp=1662786790247, timestamp_type=0, key=b'{\"id\": 1}', value=b'{\"idx\": 8}', headers=[], checksum=None, serialized_key_size=9, serialized_value_size=10, serialized_header_size=-1)\n",
      "\n",
      "\n",
      "ConsumerRecord(topic='topic_one', partition=2, offset=24, timestamp=1662786790248, timestamp_type=0, key=b'{\"id\": 1}', value=b'{\"idx\": 9}', headers=[], checksum=None, serialized_key_size=9, serialized_value_size=10, serialized_header_size=-1)\n",
      "\n",
      "\n"
     ]
    }
   ],
   "source": [
    "stop=0\n",
    "for message in consumer:\n",
    "    print(message)\n",
    "    print(\"\\n\")\n",
    "    stop +=1\n",
    "    if stop ==9:\n",
    "        break\n"
   ]
  },
  {
   "cell_type": "code",
   "execution_count": null,
   "id": "b5080d94",
   "metadata": {},
   "outputs": [],
   "source": []
  }
 ],
 "metadata": {
  "kernelspec": {
   "display_name": "base",
   "language": "python",
   "name": "base"
  },
  "language_info": {
   "codemirror_mode": {
    "name": "ipython",
    "version": 3
   },
   "file_extension": ".py",
   "mimetype": "text/x-python",
   "name": "python",
   "nbconvert_exporter": "python",
   "pygments_lexer": "ipython3",
   "version": "3.9.12"
  }
 },
 "nbformat": 4,
 "nbformat_minor": 5
}
