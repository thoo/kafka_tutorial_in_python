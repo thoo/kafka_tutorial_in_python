{
 "cells": [
  {
   "cell_type": "markdown",
   "id": "8b29e6c3",
   "metadata": {},
   "source": [
    "## Install `kafka` using `homebrew`\n",
    "```shell\n",
    "brew install kafka\n",
    "```"
   ]
  },
  {
   "cell_type": "markdown",
   "id": "e43c87b6",
   "metadata": {},
   "source": [
    "## Install kafka-python\n",
    "```shell\n",
    "pip install kafka-python\n",
    "```"
   ]
  },
  {
   "cell_type": "code",
   "execution_count": 5,
   "id": "72d313c0",
   "metadata": {
    "ExecuteTime": {
     "end_time": "2022-09-10T01:46:28.828867Z",
     "start_time": "2022-09-10T01:46:23.890005Z"
    }
   },
   "outputs": [
    {
     "name": "stdout",
     "output_type": "stream",
     "text": [
      "Collecting kafka-python\n",
      "  Downloading kafka_python-2.0.2-py2.py3-none-any.whl (246 kB)\n",
      "\u001b[2K     \u001b[38;2;114;156;31m━━━━━━━━━━━━━━━━━━━━━━━━━━━━━━━━━━━━━━━\u001b[0m \u001b[32m246.5/246.5 kB\u001b[0m \u001b[31m3.4 MB/s\u001b[0m eta \u001b[36m0:00:00\u001b[0m MB/s\u001b[0m eta \u001b[36m0:00:01\u001b[0m\n",
      "\u001b[?25hInstalling collected packages: kafka-python\n",
      "Successfully installed kafka-python-2.0.2\n"
     ]
    }
   ],
   "source": [
    "!pip install kafka-python"
   ]
  },
  {
   "cell_type": "markdown",
   "id": "ba63b3c8",
   "metadata": {},
   "source": [
    "## Start `zookeeper` and `kafka` through `homebrew`\n",
    "```shell\n",
    "brew services start zookeeper\n",
    "brew services start kafka\n",
    "```"
   ]
  },
  {
   "cell_type": "code",
   "execution_count": 1,
   "id": "eeecb606",
   "metadata": {
    "ExecuteTime": {
     "end_time": "2022-09-10T01:32:43.290729Z",
     "start_time": "2022-09-10T01:32:39.588729Z"
    }
   },
   "outputs": [
    {
     "name": "stdout",
     "output_type": "stream",
     "text": [
      "\u001b[34m==>\u001b[0m \u001b[1mSuccessfully started `zookeeper` (label: homebrew.mxcl.zookeeper)\u001b[0m\n",
      "\u001b[34m==>\u001b[0m \u001b[1mSuccessfully started `kafka` (label: homebrew.mxcl.kafka)\u001b[0m\n"
     ]
    }
   ],
   "source": [
    "!brew services start zookeeper\n",
    "!brew services start kafka"
   ]
  },
  {
   "cell_type": "markdown",
   "id": "c0b98f7d",
   "metadata": {},
   "source": [
    "## Create a producer"
   ]
  },
  {
   "cell_type": "code",
   "execution_count": 6,
   "id": "dc012ca8",
   "metadata": {
    "ExecuteTime": {
     "end_time": "2022-09-10T01:46:50.832995Z",
     "start_time": "2022-09-10T01:46:50.604850Z"
    }
   },
   "outputs": [],
   "source": [
    "from kafka import KafkaProducer\n",
    "import json\n",
    "from kafka.admin import KafkaAdminClient, NewTopic"
   ]
  },
  {
   "cell_type": "code",
   "execution_count": 7,
   "id": "4e3f411b",
   "metadata": {
    "ExecuteTime": {
     "end_time": "2022-09-10T01:46:52.878929Z",
     "start_time": "2022-09-10T01:46:52.716373Z"
    }
   },
   "outputs": [],
   "source": [
    "producer = KafkaProducer(\n",
    "    bootstrap_servers=\"localhost:9092\",\n",
    "    key_serializer=lambda v: json.dumps(v).encode(\"utf-8\"),\n",
    "    value_serializer=lambda v: json.dumps(v).encode(\"utf-8\"),\n",
    ")"
   ]
  },
  {
   "cell_type": "markdown",
   "id": "faebcaed",
   "metadata": {},
   "source": [
    "## Create a topic"
   ]
  },
  {
   "cell_type": "code",
   "execution_count": 11,
   "id": "1eb2be35",
   "metadata": {
    "ExecuteTime": {
     "end_time": "2022-09-10T01:53:08.868680Z",
     "start_time": "2022-09-10T01:53:07.783430Z"
    }
   },
   "outputs": [
    {
     "name": "stdout",
     "output_type": "stream",
     "text": [
      "return status is CreateTopicsResponse_v3(throttle_time_ms=0, topic_errors=[(topic='topic_one', error_code=0, error_message=None), (topic='topic_two', error_code=0, error_message=None)])\n"
     ]
    }
   ],
   "source": [
    "client = KafkaAdminClient(\n",
    "    bootstrap_servers=\"localhost:9092\", \n",
    "    client_id='admin'\n",
    ")\n",
    "\n",
    "# new topic\n",
    "\n",
    "sample_topic_one=NewTopic(name=\"topic_one\", num_partitions=3, replication_factor=1)\n",
    "sample_topic_two=NewTopic(name=\"topic_two\", num_partitions=3, replication_factor=1)\n",
    "return_status = client.create_topics(new_topics=[sample_topic_one,sample_topic_two])\n",
    "\n",
    "print(f\"return status is {return_status}\")"
   ]
  },
  {
   "cell_type": "markdown",
   "id": "3770e95e",
   "metadata": {},
   "source": [
    "## Delete topics\n",
    "```python\n",
    "client.delete_topics(['topic_one','topic_two'])\n",
    "```"
   ]
  },
  {
   "cell_type": "markdown",
   "id": "03ea9812",
   "metadata": {},
   "source": [
    "## Send kafka message"
   ]
  },
  {
   "cell_type": "code",
   "execution_count": 23,
   "id": "aebd6150",
   "metadata": {
    "ExecuteTime": {
     "end_time": "2022-09-10T03:10:47.301685Z",
     "start_time": "2022-09-10T03:10:47.295098Z"
    }
   },
   "outputs": [],
   "source": [
    "# value , partition\n",
    "list_of_values = [\n",
    "    ({\"idx\": 1}, 0),\n",
    "    ({\"idx\": 2}, 1),\n",
    "    ({\"idx\": 3}, 2),\n",
    "    ({\"idx\": 4}, 0),\n",
    "    ({\"idx\": 5}, 1),\n",
    "    ({\"idx\": 6}, 2),\n",
    "    ({\"idx\": 7}, 0),\n",
    "    ({\"idx\": 8}, 1),\n",
    "    ({\"idx\": 9}, 2),\n",
    "]"
   ]
  },
  {
   "cell_type": "code",
   "execution_count": 34,
   "id": "3d31bf56",
   "metadata": {
    "ExecuteTime": {
     "end_time": "2022-09-10T05:13:10.263245Z",
     "start_time": "2022-09-10T05:13:10.241216Z"
    }
   },
   "outputs": [],
   "source": [
    "for value, parti in list_of_values:\n",
    "    producer.send(\"topic_one\", key={\"id\": 1}, value=value, partition=parti)\n",
    "producer.flush()"
   ]
  },
  {
   "cell_type": "code",
   "execution_count": 20,
   "id": "686f9a9a",
   "metadata": {
    "ExecuteTime": {
     "end_time": "2022-09-10T02:58:13.529310Z",
     "start_time": "2022-09-10T02:58:13.519427Z"
    }
   },
   "outputs": [
    {
     "data": {
      "text/plain": [
       "<kafka.producer.future.FutureRecordMetadata at 0x7fc93108b070>"
      ]
     },
     "execution_count": 20,
     "metadata": {},
     "output_type": "execute_result"
    }
   ],
   "source": [
    "producer.send(\n",
    " \"topic_one\",\n",
    " key={\"id\":1},\n",
    " value={\"name\":\"Pittsburgh\", \"state\":\"PA\"},\n",
    "    partition=1\n",
    ")\n",
    "\n",
    "producer.send(\n",
    " \"topic_one\",\n",
    " key={\"id\":1},\n",
    " value={\"name\":\"Pittsburgh\", \"state\":\"PA\"},\n",
    "    partition=2\n",
    ")"
   ]
  },
  {
   "cell_type": "code",
   "execution_count": 33,
   "id": "a6da1d1d",
   "metadata": {
    "ExecuteTime": {
     "end_time": "2022-09-10T05:11:02.471259Z",
     "start_time": "2022-09-10T05:11:02.464517Z"
    }
   },
   "outputs": [],
   "source": [
    "producer.flush()"
   ]
  },
  {
   "cell_type": "code",
   "execution_count": null,
   "id": "7e2b6767",
   "metadata": {},
   "outputs": [],
   "source": []
  }
 ],
 "metadata": {
  "kernelspec": {
   "display_name": "base",
   "language": "python",
   "name": "base"
  },
  "language_info": {
   "codemirror_mode": {
    "name": "ipython",
    "version": 3
   },
   "file_extension": ".py",
   "mimetype": "text/x-python",
   "name": "python",
   "nbconvert_exporter": "python",
   "pygments_lexer": "ipython3",
   "version": "3.9.12"
  }
 },
 "nbformat": 4,
 "nbformat_minor": 5
}
